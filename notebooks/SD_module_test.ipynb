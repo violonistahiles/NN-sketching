{
  "nbformat": 4,
  "nbformat_minor": 0,
  "metadata": {
    "colab": {
      "name": "SD_module_test.ipynb",
      "provenance": [],
      "collapsed_sections": []
    },
    "kernelspec": {
      "name": "python3",
      "display_name": "Python 3"
    },
    "accelerator": "GPU"
  },
  "cells": [
    {
      "cell_type": "code",
      "metadata": {
        "colab": {
          "base_uri": "https://localhost:8080/"
        },
        "id": "RkdfQDwuZ5Zh",
        "outputId": "0f29f1a7-1a0d-43db-a835-5049eef03989"
      },
      "source": [
        "from google.colab import drive\n",
        "drive.mount('/content/drive')"
      ],
      "execution_count": null,
      "outputs": [
        {
          "output_type": "stream",
          "text": [
            "Mounted at /content/drive\n"
          ],
          "name": "stdout"
        }
      ]
    },
    {
      "cell_type": "code",
      "metadata": {
        "id": "CT1g8x7uZ6Ic"
      },
      "source": [
        "module_path = '/content/drive/MyDrive/U2Net_current/SD_module/'\r\n",
        "img_path = '/content/drive/MyDrive/U2Net_current/SD_module/test_examples/'\r\n",
        "out_path = '/content/drive/MyDrive/U2Net_current/SD_module_test/'"
      ],
      "execution_count": null,
      "outputs": []
    },
    {
      "cell_type": "code",
      "metadata": {
        "id": "ihqee1P7dTKr"
      },
      "source": [
        "def draw_sketch(module_path, img_path, out_path):\r\n",
        "\r\n",
        "  '''\r\n",
        "  Input parameters:\r\n",
        "    module_path - directory where sketch drawing module located\r\n",
        "    img_path - image for predict directory, including image name\r\n",
        "    out_path - directory for predict saving, excluding image name\r\n",
        "  Output parameters:\r\n",
        "    out_path - directory where image is saved (format: out_path + image_name + '_predict.jpg')\r\n",
        "  '''\r\n",
        "\r\n",
        "  # Load standard modules \r\n",
        "  import torch\r\n",
        "  import torch.nn as nn\r\n",
        "  import cv2\r\n",
        "  import numpy as np\r\n",
        "  import os\r\n",
        "  import sys  \r\n",
        "  sys.path.append(module_path)\r\n",
        "\r\n",
        "  # Load custom modules \r\n",
        "  from model.u2net import REBNCONVp, _upsample_like, RSU7, RSU6, RSU5, RSU4, RSU4F, U2NET \r\n",
        "  from utils.utils import detect_face, crop_face, predict_img\r\n",
        "\r\n",
        "  img_size = 512 # Image size for net input\r\n",
        "\r\n",
        "  device = torch.device('cuda' if torch.cuda.is_available() else 'cpu')\r\n",
        "\r\n",
        "  # Loading net and weights\r\n",
        "  model = U2NET(3, 1)\r\n",
        "  model.load_state_dict(torch.load(module_path + 'SD_model_dict.pt',  map_location=device))\r\n",
        "  model.eval()\r\n",
        "  model.to(device)\r\n",
        "\r\n",
        "  # Simple opencv face detector\r\n",
        "  face_cascade = cv2.CascadeClassifier(module_path + 'haarcascade_frontalface_default.xml')\r\n",
        "\r\n",
        "  # Prediction\r\n",
        "  img_dir = predict_img(model, device, face_cascade, img_path, out_path, img_size)\r\n",
        "\r\n",
        "  return img_dir"
      ],
      "execution_count": null,
      "outputs": []
    },
    {
      "cell_type": "markdown",
      "metadata": {
        "id": "B12lXBpo_9so"
      },
      "source": [
        "CPU test"
      ]
    },
    {
      "cell_type": "code",
      "metadata": {
        "id": "UibGLRq5ACWt"
      },
      "source": [
        "import time\r\n",
        "import os"
      ],
      "execution_count": null,
      "outputs": []
    },
    {
      "cell_type": "code",
      "metadata": {
        "colab": {
          "base_uri": "https://localhost:8080/"
        },
        "id": "HOLK3RY3gnm0",
        "outputId": "930d67d4-96bc-4222-a955-a57da7c3f946"
      },
      "source": [
        "for filename in os.listdir(img_path):\r\n",
        "  curr_time = time.time()\r\n",
        "  output_dir = draw_sketch(module_path, img_path+filename, out_path)\r\n",
        "  print(output_dir + ' ready!' + f' Execution time {round(time.time()-curr_time)}')"
      ],
      "execution_count": null,
      "outputs": [
        {
          "output_type": "stream",
          "text": [
            "/content/drive/MyDrive/U2Net_current/SD_module_test/Florence_predict.jpg ready! Execution time 8\n",
            "/content/drive/MyDrive/U2Net_current/SD_module_test/guliNazha3_predict.jpg ready! Execution time 8\n",
            "/content/drive/MyDrive/U2Net_current/SD_module_test/man_face_1_predict.jpg ready! Execution time 8\n",
            "/content/drive/MyDrive/U2Net_current/SD_module_test/man_face_2_predict.jpg ready! Execution time 8\n",
            "/content/drive/MyDrive/U2Net_current/SD_module_test/man_face_3_predict.jpg ready! Execution time 8\n",
            "/content/drive/MyDrive/U2Net_current/SD_module_test/man4_predict.jpg ready! Execution time 8\n",
            "/content/drive/MyDrive/U2Net_current/SD_module_test/smile_predict.jpg ready! Execution time 8\n",
            "/content/drive/MyDrive/U2Net_current/SD_module_test/test_face_2_predict.jpg ready! Execution time 8\n",
            "/content/drive/MyDrive/U2Net_current/SD_module_test/test_face_4_predict.jpg ready! Execution time 8\n",
            "/content/drive/MyDrive/U2Net_current/SD_module_test/woman_face_1_predict.jpg ready! Execution time 8\n",
            "/content/drive/MyDrive/U2Net_current/SD_module_test/woman_face_2_predict.jpg ready! Execution time 8\n"
          ],
          "name": "stdout"
        }
      ]
    },
    {
      "cell_type": "markdown",
      "metadata": {
        "id": "p4EDK74F__qI"
      },
      "source": [
        "GPU test"
      ]
    },
    {
      "cell_type": "code",
      "metadata": {
        "colab": {
          "base_uri": "https://localhost:8080/"
        },
        "id": "R54JQSeVBE4A",
        "outputId": "52d12c2e-fab3-450a-d025-13b3e973ed74"
      },
      "source": [
        "for filename in os.listdir(img_path):\r\n",
        "  curr_time = time.time()\r\n",
        "  output_dir = draw_sketch(module_path, img_path+filename, out_path)\r\n",
        "  print(output_dir + ' ready!' + f' Execution time {round(time.time()-curr_time)}')"
      ],
      "execution_count": null,
      "outputs": [
        {
          "output_type": "stream",
          "text": [
            "/content/drive/MyDrive/U2Net_current/SD_module_test/Florence_predict.jpg ready! Execution time 1\n",
            "/content/drive/MyDrive/U2Net_current/SD_module_test/guliNazha3_predict.jpg ready! Execution time 2\n",
            "/content/drive/MyDrive/U2Net_current/SD_module_test/man_face_1_predict.jpg ready! Execution time 1\n",
            "/content/drive/MyDrive/U2Net_current/SD_module_test/man_face_2_predict.jpg ready! Execution time 2\n",
            "/content/drive/MyDrive/U2Net_current/SD_module_test/man_face_3_predict.jpg ready! Execution time 1\n",
            "/content/drive/MyDrive/U2Net_current/SD_module_test/man4_predict.jpg ready! Execution time 1\n",
            "/content/drive/MyDrive/U2Net_current/SD_module_test/smile_predict.jpg ready! Execution time 1\n",
            "/content/drive/MyDrive/U2Net_current/SD_module_test/test_face_2_predict.jpg ready! Execution time 1\n",
            "/content/drive/MyDrive/U2Net_current/SD_module_test/test_face_4_predict.jpg ready! Execution time 1\n",
            "/content/drive/MyDrive/U2Net_current/SD_module_test/woman_face_1_predict.jpg ready! Execution time 1\n",
            "/content/drive/MyDrive/U2Net_current/SD_module_test/woman_face_2_predict.jpg ready! Execution time 1\n"
          ],
          "name": "stdout"
        }
      ]
    }
  ]
}